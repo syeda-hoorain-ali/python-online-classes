{
 "cells": [
  {
   "cell_type": "markdown",
   "metadata": {},
   "source": [
    "# Sets:\n",
    "A **set** is an unordered, mutable collection of unique elements in Python.\n",
    "It does not allow duplicate values and supports operations like union, \n",
    "intersection, and difference.\n",
    " and its Methods\n"
   ]
  },
  {
   "cell_type": "code",
   "execution_count": 1,
   "metadata": {},
   "outputs": [
    {
     "name": "stdout",
     "output_type": "stream",
     "text": [
      "set()\n"
     ]
    }
   ],
   "source": [
    "my_set = set()\n",
    "print(my_set)"
   ]
  },
  {
   "cell_type": "code",
   "execution_count": 1,
   "metadata": {},
   "outputs": [
    {
     "name": "stdout",
     "output_type": "stream",
     "text": [
      "{2, 3, 4, 5, 6}\n",
      "{3, 4, 5, 6}\n"
     ]
    }
   ],
   "source": [
    "numbers = {1,2,3,4,5}\n",
    "\n",
    "# Sets are a collection of items that are unordered and unique.\n",
    "\n",
    "numbers.add(6)\n",
    "numbers.pop()\n",
    "print(numbers)\n",
    "numbers.pop()\n",
    "print(numbers)"
   ]
  },
  {
   "cell_type": "code",
   "execution_count": null,
   "metadata": {},
   "outputs": [
    {
     "name": "stdout",
     "output_type": "stream",
     "text": [
      "{1, 2, 3, 4, 5}\n",
      "{1, 2, 3, 4, 5, 6}\n"
     ]
    },
    {
     "ename": "KeyError",
     "evalue": "7",
     "output_type": "error",
     "traceback": [
      "\u001b[1;31m---------------------------------------------------------------------------\u001b[0m",
      "\u001b[1;31mKeyError\u001b[0m                                  Traceback (most recent call last)",
      "Cell \u001b[1;32mIn[9], line 8\u001b[0m\n\u001b[0;32m      4\u001b[0m \u001b[38;5;28mprint\u001b[39m(numbers)\n\u001b[0;32m      7\u001b[0m \u001b[38;5;66;03m# remove method will raise an error if the element is not found\u001b[39;00m\n\u001b[1;32m----> 8\u001b[0m numbers\u001b[38;5;241m.\u001b[39mremove(\u001b[38;5;241m7\u001b[39m)\n\u001b[0;32m     10\u001b[0m numbers\u001b[38;5;241m.\u001b[39mremove(\u001b[38;5;241m3\u001b[39m)\n\u001b[0;32m     11\u001b[0m \u001b[38;5;28mprint\u001b[39m(numbers)\n",
      "\u001b[1;31mKeyError\u001b[0m: 7"
     ]
    }
   ],
   "source": [
    "numbers = {1, 2, 3, 4, 5}\n",
    "print(numbers)\n",
    "numbers.add(6)\n",
    "print(numbers)\n",
    "\n",
    "# remove method will raise an error if the element is not found\n",
    "numbers.remove(7)\n"
   ]
  },
  {
   "cell_type": "markdown",
   "metadata": {},
   "source": [
    "Discard Method\n"
   ]
  },
  {
   "cell_type": "code",
   "execution_count": null,
   "metadata": {},
   "outputs": [
    {
     "name": "stdout",
     "output_type": "stream",
     "text": [
      "{1, 2, 3, 4, 5, 6}\n"
     ]
    }
   ],
   "source": [
    "numbers.discard(7) # no error raised 7 is not in object \n",
    "# ther is a diffrence in discard and remove method\n",
    "print(numbers)"
   ]
  },
  {
   "cell_type": "markdown",
   "metadata": {},
   "source": [
    "POP Method"
   ]
  },
  {
   "cell_type": "code",
   "execution_count": 12,
   "metadata": {},
   "outputs": [
    {
     "name": "stdout",
     "output_type": "stream",
     "text": [
      "{3, 4, 5, 6}\n"
     ]
    },
    {
     "ename": "TypeError",
     "evalue": "set.pop() takes no arguments (1 given)",
     "output_type": "error",
     "traceback": [
      "\u001b[1;31m---------------------------------------------------------------------------\u001b[0m",
      "\u001b[1;31mTypeError\u001b[0m                                 Traceback (most recent call last)",
      "Cell \u001b[1;32mIn[12], line 3\u001b[0m\n\u001b[0;32m      1\u001b[0m numbers\u001b[38;5;241m.\u001b[39mpop() \u001b[38;5;66;03m# remove a random element\u001b[39;00m\n\u001b[0;32m      2\u001b[0m \u001b[38;5;28mprint\u001b[39m(numbers)\n\u001b[1;32m----> 3\u001b[0m numbers\u001b[38;5;241m.\u001b[39mpop(\u001b[38;5;241m2\u001b[39m)\n\u001b[0;32m      4\u001b[0m \u001b[38;5;28mprint\u001b[39m(numbers)\n",
      "\u001b[1;31mTypeError\u001b[0m: set.pop() takes no arguments (1 given)"
     ]
    }
   ],
   "source": [
    "numbers.pop() # remove a random element\n",
    "print(numbers)\n",
    "numbers.pop(2)\n",
    "print(numbers)"
   ]
  },
  {
   "cell_type": "code",
   "execution_count": 14,
   "metadata": {},
   "outputs": [
    {
     "name": "stdout",
     "output_type": "stream",
     "text": [
      "{1, 2, 3, 4, 5}\n"
     ]
    },
    {
     "ename": "NameError",
     "evalue": "name 'a' is not defined",
     "output_type": "error",
     "traceback": [
      "\u001b[1;31m---------------------------------------------------------------------------\u001b[0m",
      "\u001b[1;31mNameError\u001b[0m                                 Traceback (most recent call last)",
      "Cell \u001b[1;32mIn[14], line 4\u001b[0m\n\u001b[0;32m      2\u001b[0m \u001b[38;5;28mprint\u001b[39m(a)\n\u001b[0;32m      3\u001b[0m \u001b[38;5;28;01mdel\u001b[39;00m a\n\u001b[1;32m----> 4\u001b[0m \u001b[38;5;28mprint\u001b[39m(a)\n",
      "\u001b[1;31mNameError\u001b[0m: name 'a' is not defined"
     ]
    }
   ],
   "source": [
    "a = {1, 2, 3, 4, 5}\n",
    "print(a)\n",
    "del a\n",
    "print(a) # this will raise an error as a is deleted "
   ]
  },
  {
   "cell_type": "code",
   "execution_count": null,
   "metadata": {},
   "outputs": [
    {
     "name": "stdout",
     "output_type": "stream",
     "text": [
      "set()\n"
     ]
    }
   ],
   "source": [
    "numbers.clear()\n",
    "print(numbers) # this will remove all the elements from the set\n"
   ]
  },
  {
   "cell_type": "markdown",
   "metadata": {},
   "source": [
    "Union and Intersetion "
   ]
  },
  {
   "cell_type": "code",
   "execution_count": 18,
   "metadata": {},
   "outputs": [
    {
     "name": "stdout",
     "output_type": "stream",
     "text": [
      "{1, 2, 3, 4, 5, 6, 7, 8}\n"
     ]
    }
   ],
   "source": [
    "A = {1, 2, 3, 4, 5}\n",
    "B = {4, 5, 6, 7, 8}\n",
    "# print(A | B) # union of A and B\n",
    "print(A.union(B)) # union of A and B"
   ]
  },
  {
   "cell_type": "code",
   "execution_count": 20,
   "metadata": {},
   "outputs": [
    {
     "name": "stdout",
     "output_type": "stream",
     "text": [
      "{40, 50}\n"
     ]
    }
   ],
   "source": [
    "A = {10,20,30,40,50}\n",
    "B = {40,50,60,70,80}\n",
    "# print(A.intersection(B)) # intersection of A and B\n",
    "print(A & B) # intersection of A and B"
   ]
  },
  {
   "cell_type": "markdown",
   "metadata": {},
   "source": [
    "Difference method"
   ]
  },
  {
   "cell_type": "code",
   "execution_count": 24,
   "metadata": {},
   "outputs": [
    {
     "name": "stdout",
     "output_type": "stream",
     "text": [
      "{80, 60, 70}\n",
      "{10, 20, 30}\n",
      "{80, 60, 70}\n"
     ]
    }
   ],
   "source": [
    "# print(A - B) # set of elements that are only in A but not in B\n",
    "# outpt will be {10, 20, 30}\n",
    "print(B - A) # set of elements that are only in B but not in A\n",
    "print(A.difference(B)) # set of elements that are only in A but not in B\n",
    "print(B.difference(A)) # set of elements that are only in B but not in A"
   ]
  },
  {
   "cell_type": "code",
   "execution_count": null,
   "metadata": {},
   "outputs": [
    {
     "name": "stdout",
     "output_type": "stream",
     "text": [
      "{80, 20, 70, 10, 60, 30}\n",
      "{80, 20, 70, 10, 60, 30}\n"
     ]
    }
   ],
   "source": [
    "A = {10,20,30,40,50}\n",
    "B = {40,50,60,70,80}\n",
    "print(A ^ B) # symmetric difference of A and B\n",
    "print(A.symmetric_difference(B)) # symmetric difference of A and B"
   ]
  },
  {
   "cell_type": "code",
   "execution_count": 26,
   "metadata": {},
   "outputs": [
    {
     "name": "stdout",
     "output_type": "stream",
     "text": [
      "False\n"
     ]
    }
   ],
   "source": [
    "print(A.isdisjoint(B)) # returns False if A and B have at least one element in common, otherwise it returns True"
   ]
  },
  {
   "cell_type": "code",
   "execution_count": 28,
   "metadata": {},
   "outputs": [
    {
     "name": "stdout",
     "output_type": "stream",
     "text": [
      "False\n",
      "True\n"
     ]
    }
   ],
   "source": [
    "print(2 in A) # check if 2 is present in set A\n",
    "print(10 in A) # check if 10 is present in set A"
   ]
  },
  {
   "cell_type": "markdown",
   "metadata": {},
   "source": [
    "Frozensets\n",
    " its mutable (cant change)"
   ]
  },
  {
   "cell_type": "code",
   "execution_count": 30,
   "metadata": {},
   "outputs": [
    {
     "name": "stdout",
     "output_type": "stream",
     "text": [
      "frozenset({1, 2, 3, 4})\n"
     ]
    },
    {
     "ename": "AttributeError",
     "evalue": "'frozenset' object has no attribute 'add'",
     "output_type": "error",
     "traceback": [
      "\u001b[1;31m---------------------------------------------------------------------------\u001b[0m",
      "\u001b[1;31mAttributeError\u001b[0m                            Traceback (most recent call last)",
      "Cell \u001b[1;32mIn[30], line 3\u001b[0m\n\u001b[0;32m      1\u001b[0m fs \u001b[38;5;241m=\u001b[39m \u001b[38;5;28mfrozenset\u001b[39m([\u001b[38;5;241m1\u001b[39m, \u001b[38;5;241m2\u001b[39m, \u001b[38;5;241m3\u001b[39m, \u001b[38;5;241m4\u001b[39m])\n\u001b[0;32m      2\u001b[0m \u001b[38;5;28mprint\u001b[39m(fs) \u001b[38;5;66;03m# frozenset({1, 2, 3, 4}) \u001b[39;00m\n\u001b[1;32m----> 3\u001b[0m fs\u001b[38;5;241m.\u001b[39madd(\u001b[38;5;241m5\u001b[39m) \u001b[38;5;66;03m# will raise an error as we are trying to add element to a frozenset\u001b[39;00m\n\u001b[0;32m      4\u001b[0m \u001b[38;5;28mprint\u001b[39m(fs)\n",
      "\u001b[1;31mAttributeError\u001b[0m: 'frozenset' object has no attribute 'add'"
     ]
    }
   ],
   "source": [
    "fs = frozenset([1, 2, 3, 4])\n",
    "print(fs) # frozenset({1, 2, 3, 4}) \n",
    "fs.add(5) # will raise an error as we are trying to add element to a frozenset\n",
    "print(fs) # frozenset({1, 2, 3, 4})"
   ]
  },
  {
   "cell_type": "markdown",
   "metadata": {},
   "source": [
    "# Tuples"
   ]
  },
  {
   "cell_type": "code",
   "execution_count": 5,
   "metadata": {},
   "outputs": [
    {
     "name": "stdout",
     "output_type": "stream",
     "text": [
      "3\n"
     ]
    }
   ],
   "source": [
    "tuple = (1,2,2,2,3,4,5)\n",
    "\n",
    "# Tuple is a collection of items that are ordered and immutable.\n",
    "\n",
    "print(tuple.count(2))"
   ]
  },
  {
   "cell_type": "markdown",
   "metadata": {},
   "source": [
    "# dictionaries\n"
   ]
  },
  {
   "cell_type": "code",
   "execution_count": 2,
   "metadata": {},
   "outputs": [
    {
     "name": "stdout",
     "output_type": "stream",
     "text": [
      "{'name': 'John', 'age': 20, 'city': 'New York'}\n"
     ]
    }
   ],
   "source": [
    "Student = {'name': 'John', 'age': 20, 'city': 'New York'}\n",
    "print(Student)\n"
   ]
  },
  {
   "cell_type": "code",
   "execution_count": 6,
   "metadata": {},
   "outputs": [
    {
     "name": "stdout",
     "output_type": "stream",
     "text": [
      "Madiha\n",
      "20\n",
      "New York\n"
     ]
    }
   ],
   "source": [
    "print(Student['name']) \n",
    "print(Student['age'])\n",
    "print(Student['city'])"
   ]
  },
  {
   "cell_type": "code",
   "execution_count": 3,
   "metadata": {},
   "outputs": [
    {
     "name": "stdout",
     "output_type": "stream",
     "text": [
      "{'name': 'John', 'age': 20, 'city': 'New York', 'roll_no': 23456}\n"
     ]
    }
   ],
   "source": [
    "Student['roll_no'] = 23456 \n",
    "# Student.add('roll_no')\n",
    "print(Student)"
   ]
  },
  {
   "cell_type": "code",
   "execution_count": 4,
   "metadata": {},
   "outputs": [
    {
     "name": "stdout",
     "output_type": "stream",
     "text": [
      "{'name': 'Madiha', 'age': 20, 'city': 'New York', 'roll_no': 23456}\n"
     ]
    }
   ],
   "source": [
    "Student['name'] = 'Madiha'\n",
    "print(Student)\n"
   ]
  },
  {
   "cell_type": "code",
   "execution_count": 7,
   "metadata": {},
   "outputs": [
    {
     "name": "stdout",
     "output_type": "stream",
     "text": [
      "{'name': 'Madiha', 'age': 20, 'roll_no': 23456}\n"
     ]
    }
   ],
   "source": [
    "del Student['city']\n",
    "print(Student)\n"
   ]
  },
  {
   "cell_type": "code",
   "execution_count": 8,
   "metadata": {},
   "outputs": [
    {
     "name": "stdout",
     "output_type": "stream",
     "text": [
      "{'name': 'Horain', 'age': 10, 'roll_no': 12345}\n",
      "{'name': 'Madiha', 'age': 15, 'roll_no': 12346}\n",
      "{'name': 'Ayesha', 'age': 12, 'roll_no': 12347}\n"
     ]
    }
   ],
   "source": [
    "Student1 = {'name':'Horain', 'age':10, 'roll_no':12345}\n",
    "Student2 = {'name':'Madiha', 'age':15, 'roll_no':12346}\n",
    "Student3 = {'name':'Ayesha', 'age':12, 'roll_no':12347}\n",
    "\n",
    "Students = [Student1, Student2, Student3]\n",
    "#print([Student1, Student2, Student3])\n",
    "for student in Students:\n",
    "    print(student)"
   ]
  },
  {
   "cell_type": "code",
   "execution_count": 9,
   "metadata": {},
   "outputs": [
    {
     "name": "stdout",
     "output_type": "stream",
     "text": [
      "name = Horain\n",
      "age = 10\n",
      "roll_no = 12345\n"
     ]
    }
   ],
   "source": [
    "for key in Student1:\n",
    "    print(f\"{key} = {Student1[key]}\")\n",
    "    "
   ]
  },
  {
   "cell_type": "code",
   "execution_count": 10,
   "metadata": {},
   "outputs": [
    {
     "name": "stdout",
     "output_type": "stream",
     "text": [
      "dict_keys(['name', 'age', 'roll_no'])\n",
      "dict_values(['Horain', 10, 12345])\n",
      "dict_items([('name', 'Horain'), ('age', 10), ('roll_no', 12345)])\n"
     ]
    }
   ],
   "source": [
    "print(Student1.keys())\n",
    "\n",
    "print(Student1.values())\n",
    "\n",
    "print(Student1.items())\n"
   ]
  },
  {
   "cell_type": "code",
   "execution_count": 11,
   "metadata": {},
   "outputs": [
    {
     "name": "stdout",
     "output_type": "stream",
     "text": [
      "{'name': 'John', 'age': 20, 'city': 'New York'}\n"
     ]
    }
   ],
   "source": [
    "student5 : dict[str, int| str] = {'name': 'John', 'age': 20, 'city': 'New York'} # key value pair\n",
    "print(student5)\n"
   ]
  }
 ],
 "metadata": {
  "kernelspec": {
   "display_name": "base",
   "language": "python",
   "name": "python3"
  },
  "language_info": {
   "codemirror_mode": {
    "name": "ipython",
    "version": 3
   },
   "file_extension": ".py",
   "mimetype": "text/x-python",
   "name": "python",
   "nbconvert_exporter": "python",
   "pygments_lexer": "ipython3",
   "version": "3.12.7"
  }
 },
 "nbformat": 4,
 "nbformat_minor": 2
}
