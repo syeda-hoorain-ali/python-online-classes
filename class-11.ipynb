{
 "cells": [
  {
   "cell_type": "markdown",
   "metadata": {},
   "source": [
    "# Python Class 11\n",
    "\n",
    "- Math & Datetime, Calendar\n",
    "- OOP\n",
    "- Docstring\n",
    "- Python Special Function\n",
    "- Overloading\n",
    "\n",
    "https://colab.research.google.com/drive/19ntCCcj3Dwy_nPmkHgJ4XVmsH3HmNJ-R?usp=sharing#scrollTo=lQcq0UARYamQ"
   ]
  },
  {
   "cell_type": "code",
   "execution_count": 12,
   "metadata": {},
   "outputs": [
    {
     "name": "stdout",
     "output_type": "stream",
     "text": [
      "1743670178.9749203\n"
     ]
    }
   ],
   "source": [
    "import time # This is required to include time module.\n",
    "ticks = time.time()\n",
    "print(ticks)"
   ]
  },
  {
   "cell_type": "code",
   "execution_count": 15,
   "metadata": {},
   "outputs": [
    {
     "name": "stdout",
     "output_type": "stream",
     "text": [
      "Local current time : time.struct_time(tm_year=2025, tm_mon=4, tm_mday=3, tm_hour=13, tm_min=50, tm_sec=33, tm_wday=3, tm_yday=93, tm_isdst=0)\n",
      "13\n",
      "2025\n"
     ]
    }
   ],
   "source": [
    "import time\n",
    "localtime = time.localtime(time.time())\n",
    "print (\"Local current time :\", localtime)\n",
    "print(localtime.tm_hour)\n",
    "print(localtime.tm_year)"
   ]
  },
  {
   "cell_type": "code",
   "execution_count": 16,
   "metadata": {},
   "outputs": [
    {
     "name": "stdout",
     "output_type": "stream",
     "text": [
      "Thu Apr  3 13:51:23 2025\n"
     ]
    }
   ],
   "source": [
    "import time\n",
    "formated_time = time.asctime(time.localtime(time.time()))\n",
    "print(formated_time)"
   ]
  },
  {
   "cell_type": "code",
   "execution_count": 17,
   "metadata": {},
   "outputs": [
    {
     "name": "stdout",
     "output_type": "stream",
     "text": [
      "Hello\n"
     ]
    }
   ],
   "source": [
    "import time\n",
    "\n",
    "time.sleep(2)\n",
    "print(\"Hello\")"
   ]
  },
  {
   "cell_type": "code",
   "execution_count": 18,
   "metadata": {},
   "outputs": [
    {
     "name": "stdout",
     "output_type": "stream",
     "text": [
      "0\n",
      "1\n",
      "2\n",
      "3\n",
      "4\n",
      "5\n",
      "6\n",
      "7\n",
      "8\n",
      "9\n"
     ]
    }
   ],
   "source": [
    "import time\n",
    "\n",
    "for i in range(10):\n",
    "    time.sleep(1)\n",
    "    print(i)"
   ]
  },
  {
   "cell_type": "code",
   "execution_count": 22,
   "metadata": {},
   "outputs": [
    {
     "name": "stdout",
     "output_type": "stream",
     "text": [
      "Here is the calendar:\n",
      "   February 2024\n",
      "Mo Tu We Th Fr Sa Su\n",
      "          1  2  3  4\n",
      " 5  6  7  8  9 10 11\n",
      "12 13 14 15 16 17 18\n",
      "19 20 21 22 23 24 25\n",
      "26 27 28 29\n",
      "\n"
     ]
    }
   ],
   "source": [
    "import calendar\n",
    "\n",
    "cal = calendar.month(2024, 2)\n",
    "print (\"Here is the calendar:\")\n",
    "print (cal)"
   ]
  },
  {
   "cell_type": "code",
   "execution_count": 27,
   "metadata": {},
   "outputs": [
    {
     "name": "stdout",
     "output_type": "stream",
     "text": [
      "Here is the calendar:\n",
      "                                  2026\n",
      "\n",
      "      January                   February                   March\n",
      "Mo Tu We Th Fr Sa Su      Mo Tu We Th Fr Sa Su      Mo Tu We Th Fr Sa Su\n",
      "          1  2  3  4                         1                         1\n",
      " 5  6  7  8  9 10 11       2  3  4  5  6  7  8       2  3  4  5  6  7  8\n",
      "12 13 14 15 16 17 18       9 10 11 12 13 14 15       9 10 11 12 13 14 15\n",
      "19 20 21 22 23 24 25      16 17 18 19 20 21 22      16 17 18 19 20 21 22\n",
      "26 27 28 29 30 31         23 24 25 26 27 28         23 24 25 26 27 28 29\n",
      "                                                    30 31\n",
      "\n",
      "       April                      May                       June\n",
      "Mo Tu We Th Fr Sa Su      Mo Tu We Th Fr Sa Su      Mo Tu We Th Fr Sa Su\n",
      "       1  2  3  4  5                   1  2  3       1  2  3  4  5  6  7\n",
      " 6  7  8  9 10 11 12       4  5  6  7  8  9 10       8  9 10 11 12 13 14\n",
      "13 14 15 16 17 18 19      11 12 13 14 15 16 17      15 16 17 18 19 20 21\n",
      "20 21 22 23 24 25 26      18 19 20 21 22 23 24      22 23 24 25 26 27 28\n",
      "27 28 29 30               25 26 27 28 29 30 31      29 30\n",
      "\n",
      "        July                     August                  September\n",
      "Mo Tu We Th Fr Sa Su      Mo Tu We Th Fr Sa Su      Mo Tu We Th Fr Sa Su\n",
      "       1  2  3  4  5                      1  2          1  2  3  4  5  6\n",
      " 6  7  8  9 10 11 12       3  4  5  6  7  8  9       7  8  9 10 11 12 13\n",
      "13 14 15 16 17 18 19      10 11 12 13 14 15 16      14 15 16 17 18 19 20\n",
      "20 21 22 23 24 25 26      17 18 19 20 21 22 23      21 22 23 24 25 26 27\n",
      "27 28 29 30 31            24 25 26 27 28 29 30      28 29 30\n",
      "                          31\n",
      "\n",
      "      October                   November                  December\n",
      "Mo Tu We Th Fr Sa Su      Mo Tu We Th Fr Sa Su      Mo Tu We Th Fr Sa Su\n",
      "          1  2  3  4                         1          1  2  3  4  5  6\n",
      " 5  6  7  8  9 10 11       2  3  4  5  6  7  8       7  8  9 10 11 12 13\n",
      "12 13 14 15 16 17 18       9 10 11 12 13 14 15      14 15 16 17 18 19 20\n",
      "19 20 21 22 23 24 25      16 17 18 19 20 21 22      21 22 23 24 25 26 27\n",
      "26 27 28 29 30 31         23 24 25 26 27 28 29      28 29 30 31\n",
      "                          30\n",
      "\n"
     ]
    }
   ],
   "source": [
    "import calendar\n",
    "\n",
    "cal = calendar.calendar(2026)\n",
    "print (\"Here is the calendar:\")\n",
    "print (cal)"
   ]
  },
  {
   "cell_type": "code",
   "execution_count": null,
   "metadata": {},
   "outputs": [
    {
     "name": "stdout",
     "output_type": "stream",
     "text": [
      "Here is the calendar:\n",
      "     April 2025\n",
      "Mo Tu We Th Fr Sa Su\n",
      "    1  2  3  4  5  6\n",
      " 7  8  9 10 11 12 13\n",
      "14 15 16 17 18 19 20\n",
      "21 22 23 24 25 26 27\n",
      "28 29 30\n",
      "\n"
     ]
    }
   ],
   "source": [
    "import calendar\n",
    "import time\n",
    "\n",
    "localtime = time.localtime(time.time())\n",
    "cal = calendar.month(localtime.tm_year, localtime.tm_mon)\n",
    "\n",
    "print (\"Here is the calendar:\")\n",
    "print (cal)"
   ]
  },
  {
   "cell_type": "code",
   "execution_count": null,
   "metadata": {},
   "outputs": [
    {
     "name": "stdout",
     "output_type": "stream",
     "text": [
      "Date: 2023-04-19\n",
      "Date2: 2023-04-30\n"
     ]
    }
   ],
   "source": [
    "from datetime import date\n",
    "\n",
    "date1 = date(2023, 4, 19)\n",
    "print(\"Date:\", date1)\n",
    "date2 = date(2023, 4, 30)\n",
    "print(\"Date2:\", date2)"
   ]
  },
  {
   "cell_type": "code",
   "execution_count": 43,
   "metadata": {},
   "outputs": [
    {
     "name": "stdout",
     "output_type": "stream",
     "text": [
      "2025-04-03 14:01:58.199544\n",
      "03-04-2025   02:01:58\n"
     ]
    }
   ],
   "source": [
    "from datetime import datetime\n",
    "\n",
    "x = datetime.now()\n",
    "\n",
    "formated_date = x.strftime('%d-%m-%Y   %I:%M:%S')\n",
    "\n",
    "\n",
    "print(x)\n",
    "print(formated_date)"
   ]
  },
  {
   "cell_type": "code",
   "execution_count": 44,
   "metadata": {},
   "outputs": [
    {
     "name": "stdout",
     "output_type": "stream",
     "text": [
      "pow(2, 3) =  8\n"
     ]
    }
   ],
   "source": [
    "print(\"pow(2, 3) = \", pow(2, 3)) \n"
   ]
  },
  {
   "cell_type": "code",
   "execution_count": 45,
   "metadata": {},
   "outputs": [
    {
     "name": "stdout",
     "output_type": "stream",
     "text": [
      "pow(2, 3) =  8.0\n"
     ]
    }
   ],
   "source": [
    "import math\n",
    "\n",
    "print(\"pow(2, 3) = \", math.pow(2, 3)) "
   ]
  },
  {
   "cell_type": "code",
   "execution_count": 46,
   "metadata": {},
   "outputs": [
    {
     "name": "stdout",
     "output_type": "stream",
     "text": [
      "max(1, 2, 3, 4, 5) =  5\n",
      "min(1, 2, 3, 4, 5) =  1\n"
     ]
    }
   ],
   "source": [
    "print(\"max(1, 2, 3, 4, 5) = \", max(1, 2, 3, 4, 5))  # outputs: 5\n",
    "\n",
    "# min() returns the smallest of a set of numbers\n",
    "print(\"min(1, 2, 3, 4, 5) = \", min(1, 2, 3, 4, 5))"
   ]
  },
  {
   "cell_type": "markdown",
   "metadata": {},
   "source": [
    "# Object Oriented Programming (OOP)\n",
    "\n",
    "- Class \n",
    " - attributes\n",
    " - methods\n",
    " - class variables\n",
    " - class methods\n",
    "\n",
    "```py\n",
    "class ClassName():\n",
    "    \"\"\"doc string or description\"\"\"\n",
    "    pass\n",
    "```\n"
   ]
  },
  {
   "cell_type": "code",
   "execution_count": null,
   "metadata": {},
   "outputs": [],
   "source": [
    "std1_name = \" Hoorain\"\n",
    "std2_name = \"Muniba\"\n",
    "\n",
    "std1_roll_no = \"00001\"\n",
    "std2_roll_no = \"00002\"\n",
    "\n",
    "std1_qtr = \"3rd Python\"\n",
    "std2_qtr = \"3rd Python\"\n"
   ]
  },
  {
   "cell_type": "code",
   "execution_count": 67,
   "metadata": {},
   "outputs": [
    {
     "name": "stdout",
     "output_type": "stream",
     "text": [
      "Hoorain\n",
      "Muniba\n",
      "Python\n",
      "Python\n",
      "GIAIC\n",
      "GIAIC\n",
      "Hoorain is learning OOP\n",
      "Muniba is learning Python\n",
      "Assignment 4 submitted!\n",
      "25 Projects submitted!\n"
     ]
    },
    {
     "ename": "AttributeError",
     "evalue": "type object 'Student' has no attribute 'orginaization'",
     "output_type": "error",
     "traceback": [
      "\u001b[31m---------------------------------------------------------------------------\u001b[39m",
      "\u001b[31mAttributeError\u001b[39m                            Traceback (most recent call last)",
      "\u001b[36mCell\u001b[39m\u001b[36m \u001b[39m\u001b[32mIn[67]\u001b[39m\u001b[32m, line 40\u001b[39m\n\u001b[32m     36\u001b[39m std1.submit_assignment(\u001b[33m\"\u001b[39m\u001b[33mAssignment 4\u001b[39m\u001b[33m\"\u001b[39m)\n\u001b[32m     37\u001b[39m std2.submit_assignment(\u001b[33m\"\u001b[39m\u001b[33m25 Projects\u001b[39m\u001b[33m\"\u001b[39m)\n\u001b[32m---> \u001b[39m\u001b[32m40\u001b[39m \u001b[38;5;28mprint\u001b[39m(\u001b[43mStudent\u001b[49m\u001b[43m.\u001b[49m\u001b[43morginaization\u001b[49m)\n",
      "\u001b[31mAttributeError\u001b[39m: type object 'Student' has no attribute 'orginaization'"
     ]
    }
   ],
   "source": [
    "class Student():\n",
    "    # \"\"\"A class to represent a student with attributes like name, roll number, and quarter.\"\"\"\n",
    "    def __init__(self, student_name: str, course: str):\n",
    "        self.name = student_name\n",
    "        self.course = course\n",
    "        self.orginaization = \"GIAIC\"\n",
    "        pass\n",
    "\n",
    "    \n",
    "    def learning(self, subject: str):\n",
    "        print(f\"{self.name} is learning {subject}\")\n",
    "\n",
    "    def submit_assignment(self, assignment_name):\n",
    "        #  Funtionality\n",
    "        print(f\"{assignment_name} submitted!\")\n",
    "\n",
    "\n",
    "\n",
    "\n",
    "std1 = Student(\"Hoorain\", \"Python\")\n",
    "std2 = Student(\"Muniba\", \"Python\")\n",
    "\n",
    "print(std1.name)\n",
    "print(std2.name)\n",
    "\n",
    "print(std1.course)\n",
    "print(std2.course)\n",
    "\n",
    "print(std1.orginaization)\n",
    "print(std2.orginaization)\n",
    "\n",
    "std1.learning(\"OOP\")\n",
    "std2.learning(\"Python\")\n",
    "\n",
    "\n",
    "std1.submit_assignment(\"Assignment 4\")\n",
    "std2.submit_assignment(\"25 Projects\")\n",
    "\n",
    "\n",
    "print(Student.orginaization)\n"
   ]
  },
  {
   "cell_type": "code",
   "execution_count": null,
   "metadata": {},
   "outputs": [
    {
     "name": "stdout",
     "output_type": "stream",
     "text": [
      "Hoorain\n",
      "Muniba\n",
      "Python\n",
      "Python\n",
      "GIAIC\n",
      "GIAIC\n",
      "Hoorain is learning OOP\n",
      "Muniba is learning Python\n",
      "Assignment 4 submitted!\n",
      "25 Projects submitted!\n"
     ]
    }
   ],
   "source": []
  },
  {
   "cell_type": "markdown",
   "metadata": {},
   "source": [
    "### Class variables"
   ]
  },
  {
   "cell_type": "code",
   "execution_count": 68,
   "metadata": {},
   "outputs": [
    {
     "name": "stdout",
     "output_type": "stream",
     "text": [
      "info@giaic.com\n",
      "info@giaic.com\n",
      "GIAIC\n",
      "GIAIC\n",
      "111-111-111-111\n",
      "111-111-111-111\n",
      "GIAIC\n"
     ]
    }
   ],
   "source": [
    "class Student():\n",
    "    # \"\"\"A class to represent a student with attributes like name, roll number, and quarter.\"\"\"\n",
    "    \n",
    "    orginaization = \"GIAIC\"\n",
    "    email = \"info@giaic.com\"\n",
    "    helpline = \"111-111-111-111\"\n",
    "    \n",
    "    def __init__(self, student_name: str, course: str):\n",
    "        self.name = student_name\n",
    "        self.course = course\n",
    "        pass\n",
    "\n",
    "    \n",
    "    def learning(self, subject: str):\n",
    "        print(f\"{self.name} is learning {subject}\")\n",
    "\n",
    "    def submit_assignment(self, assignment_name):\n",
    "        #  Funtionality\n",
    "        print(f\"{assignment_name} submitted!\")\n",
    "\n",
    "\n",
    "\n",
    "\n",
    "\n",
    "std1 = Student(\"Hoorain\", \"Python\")\n",
    "std2 = Student(\"Muniba\", \"Python\")\n",
    "\n",
    "print(std1.email)\n",
    "print(std2.email)\n",
    "\n",
    "print(std1.orginaization)\n",
    "print(std2.orginaization)\n",
    "\n",
    "\n",
    "print(std1.helpline)\n",
    "print(std2.helpline)\n",
    "\n",
    "\n",
    "print(Student.orginaization)\n",
    "\n"
   ]
  },
  {
   "cell_type": "markdown",
   "metadata": {},
   "source": [
    "### Docstring"
   ]
  },
  {
   "cell_type": "code",
   "execution_count": 80,
   "metadata": {},
   "outputs": [
    {
     "name": "stdout",
     "output_type": "stream",
     "text": [
      "Hoorain\n",
      "Muniba\n",
      "1977585886480\n",
      "1977603476368\n",
      "Hoorain is enrolled in Python\n",
      "Muniba is enrolled in Python\n",
      "['__class__', '__delattr__', '__dict__', '__dir__', '__doc__', '__eq__', '__firstlineno__', '__format__', '__ge__', '__getattribute__', '__getstate__', '__gt__', '__hash__', '__init__', '__init_subclass__', '__le__', '__lt__', '__module__', '__ne__', '__new__', '__reduce__', '__reduce_ex__', '__repr__', '__setattr__', '__sizeof__', '__static_attributes__', '__str__', '__subclasshook__', '__weakref__', 'course', 'learning', 'name', 'orginaization', 'submit_assignment']\n"
     ]
    }
   ],
   "source": [
    "class Student():\n",
    "    \"\"\"A class to represent a student with attributes like name, roll number, and quarter.\"\"\"\n",
    "\n",
    "    def __init__(self, student_name: str, course: str):\n",
    "        \"\"\"\n",
    "        This is the constructor method for the Student class.\n",
    "\n",
    "        Args:\n",
    "            student_name (str): The name of the student.\n",
    "            course (str): The course the student is enrolled in.\n",
    "        \"\"\"\n",
    "        self.name = student_name\n",
    "        self.course = course\n",
    "        self.orginaization = \"GIAIC\"\n",
    "        pass\n",
    "\n",
    "    \n",
    "    def learning(self, subject: str):\n",
    "        \"\"\"\n",
    "        This method allows the student to learn a specific subject.\n",
    "        \n",
    "        Args:\n",
    "            subject (str): The name of the subject the student is learning.\n",
    "        \"\"\"\n",
    "\n",
    "        print(f\"{self.name} is learning {subject}\")\n",
    "\n",
    "    def submit_assignment(self, assignment_name):\n",
    "        \"\"\"\n",
    "        This method allows the student to submit an assignment.\n",
    "        \n",
    "        Args:\n",
    "            assignment_name (str): The name of the assignment being submitted.\n",
    "        \"\"\"\n",
    "        #  Funtionality\n",
    "        print(f\"{assignment_name} submitted!\")\n",
    "\n",
    "    def __str__(self):\n",
    "        return f\"{self.name} is enrolled in {self.course}\"\n",
    "    \n",
    "    \n",
    "\n",
    "\n",
    "\n",
    "\n",
    "std1 = Student(\"Hoorain\", \"Python\")\n",
    "std2 = Student(\"Muniba\", \"Python\")\n",
    "\n",
    "print(std1.name)\n",
    "print(std2.name)\n",
    "\n",
    "print(id(std1))\n",
    "print(id(std2))\n",
    "\n",
    "print(std1)\n",
    "print(std2)\n",
    "\n",
    "print(dir(std1))"
   ]
  },
  {
   "cell_type": "code",
   "execution_count": null,
   "metadata": {},
   "outputs": [
    {
     "name": "stdout",
     "output_type": "stream",
     "text": [
      "Open AI\n",
      "Open AI\n"
     ]
    }
   ],
   "source": [
    "std2 = Student(\"Muniba\", \"Python\")\n",
    "\n",
    "abc = std2\n",
    "abc.course = \"Open AI\"\n",
    "\n",
    "print(std2.course)\n",
    "print(abc.course)"
   ]
  },
  {
   "cell_type": "code",
   "execution_count": 86,
   "metadata": {},
   "outputs": [
    {
     "name": "stdout",
     "output_type": "stream",
     "text": [
      "True\n",
      "True\n"
     ]
    }
   ],
   "source": [
    "class Student():\n",
    "    \"\"\"A class to represent a student with attributes like name, roll number, and quarter.\"\"\"\n",
    "\n",
    "    def __init__(self, student_name: str, course: str):\n",
    "        \"\"\"\n",
    "        This is the constructor method for the Student class.\n",
    "\n",
    "        Args:\n",
    "            student_name (str): The name of the student.\n",
    "            course (str): The course the student is enrolled in.\n",
    "        \"\"\"\n",
    "        self.name = student_name\n",
    "        self.course = course\n",
    "        self.orginaization = \"GIAIC\"\n",
    "        pass\n",
    "\n",
    "    \n",
    "    def learning(self, subject: str):\n",
    "        \"\"\"\n",
    "        This method allows the student to learn a specific subject.\n",
    "        \n",
    "        Args:\n",
    "            subject (str): The name of the subject the student is learning.\n",
    "        \"\"\"\n",
    "\n",
    "        print(f\"{self.name} is learning {subject}\")\n",
    "\n",
    "    def submit_assignment(self, assignment_name):\n",
    "        \"\"\"\n",
    "        This method allows the student to submit an assignment.\n",
    "        \n",
    "        Args:\n",
    "            assignment_name (str): The name of the assignment being submitted.\n",
    "        \"\"\"\n",
    "        #  Funtionality\n",
    "        print(f\"{assignment_name} submitted!\")\n",
    "\n",
    "    def __str__(self):\n",
    "        return f\"{self.name} is enrolled in {self.course}\"\n",
    "    \n",
    "    def __eq__(self, other):\n",
    "        \"\"\"\n",
    "        This method checks if two Student objects are equal based on their name and course.\n",
    "\n",
    "        Args:\n",
    "            other (Student): Another Student object to compare with.\n",
    "\n",
    "        Returns:\n",
    "            bool: True if both students have the same name and course, False otherwise.\n",
    "        \"\"\"\n",
    "        if isinstance(other, Student):\n",
    "            return self.name == other.name and self.course == other.course\n",
    "        return False\n",
    "    \n",
    "    \n",
    "\n",
    "\n",
    "\n",
    "\n",
    "std1 = Student(\"Muniba\", \"Python\")\n",
    "std2 = Student(\"Muniba\", \"Python\")\n",
    "\n",
    "print(std1 == std2)\n",
    "print(std2 == std1)"
   ]
  },
  {
   "cell_type": "markdown",
   "metadata": {},
   "source": [
    "### Class Methods"
   ]
  },
  {
   "cell_type": "code",
   "execution_count": 95,
   "metadata": {},
   "outputs": [
    {
     "name": "stdout",
     "output_type": "stream",
     "text": [
      "Calling at 111-111-111-111\n",
      "Calling at 111-111-111-111\n"
     ]
    }
   ],
   "source": [
    "class Student():\n",
    "    \"\"\"A class to represent a student with attributes like name, roll number, and quarter.\"\"\"\n",
    "    \n",
    "    orginaization = \"GIAIC\"\n",
    "    email = \"info@giaic.com\"\n",
    "    helpline = \"111-111-111-111\"\n",
    "    \n",
    "    def __init__(self, student_name: str, course: str):\n",
    "        self.name = student_name\n",
    "        self.course = course\n",
    "        pass\n",
    "\n",
    "    \n",
    "    def learning(self, subject: str):\n",
    "        print(f\"{self.name} is learning {subject}\")\n",
    "\n",
    "    def submit_assignment(self, assignment_name):\n",
    "        #  Funtionality\n",
    "        print(f\"{assignment_name} submitted!\")\n",
    "\n",
    "    @classmethod\n",
    "    def call_helpline(self):\n",
    "        print(f\"Calling at {Student.helpline}\")\n",
    "    \n",
    "\n",
    "\n",
    "\n",
    "std1 = Student(\"Hoorain\", \"Python\")\n",
    "std2 = Student(\"Muniba\", \"Python\")\n",
    "\n",
    "std1.call_helpline()\n",
    "\n",
    "Student.call_helpline()\n"
   ]
  },
  {
   "cell_type": "markdown",
   "metadata": {},
   "source": [
    "### Overloading"
   ]
  },
  {
   "cell_type": "code",
   "execution_count": 102,
   "metadata": {},
   "outputs": [
    {
     "name": "stdout",
     "output_type": "stream",
     "text": [
      "8\n",
      "8.5\n",
      "9.3\n",
      "HelloWorld\n"
     ]
    },
    {
     "ename": "TypeError",
     "evalue": "Invalid type arguments",
     "output_type": "error",
     "traceback": [
      "\u001b[31m---------------------------------------------------------------------------\u001b[39m",
      "\u001b[31mTypeError\u001b[39m                                 Traceback (most recent call last)",
      "\u001b[36mCell\u001b[39m\u001b[36m \u001b[39m\u001b[32mIn[102]\u001b[39m\u001b[32m, line 44\u001b[39m\n\u001b[32m     40\u001b[39m \u001b[38;5;28mprint\u001b[39m(add(\u001b[32m5.8\u001b[39m, \u001b[32m3.5\u001b[39m))\n\u001b[32m     42\u001b[39m \u001b[38;5;28mprint\u001b[39m(add(\u001b[33m\"\u001b[39m\u001b[33mHello\u001b[39m\u001b[33m\"\u001b[39m, \u001b[33m\"\u001b[39m\u001b[33mWorld\u001b[39m\u001b[33m\"\u001b[39m))\n\u001b[32m---> \u001b[39m\u001b[32m44\u001b[39m \u001b[38;5;28mprint\u001b[39m(\u001b[43madd\u001b[49m\u001b[43m(\u001b[49m\u001b[33;43m\"\u001b[39;49m\u001b[33;43mHello\u001b[39;49m\u001b[33;43m\"\u001b[39;49m\u001b[43m,\u001b[49m\u001b[43m \u001b[49m\u001b[32;43m5\u001b[39;49m\u001b[43m)\u001b[49m)\n",
      "\u001b[36mCell\u001b[39m\u001b[36m \u001b[39m\u001b[32mIn[102]\u001b[39m\u001b[32m, line 34\u001b[39m, in \u001b[36madd\u001b[39m\u001b[34m(a, b)\u001b[39m\n\u001b[32m     31\u001b[39m \u001b[38;5;28;01mif\u001b[39;00m \u001b[38;5;28misinstance\u001b[39m(a, \u001b[38;5;28mstr\u001b[39m) \u001b[38;5;129;01mand\u001b[39;00m \u001b[38;5;28misinstance\u001b[39m(b, \u001b[38;5;28mstr\u001b[39m):\n\u001b[32m     32\u001b[39m     \u001b[38;5;28;01mreturn\u001b[39;00m a + b\n\u001b[32m---> \u001b[39m\u001b[32m34\u001b[39m \u001b[38;5;28;01mraise\u001b[39;00m \u001b[38;5;167;01mTypeError\u001b[39;00m(\u001b[33m\"\u001b[39m\u001b[33mInvalid type arguments\u001b[39m\u001b[33m\"\u001b[39m)\n",
      "\u001b[31mTypeError\u001b[39m: Invalid type arguments"
     ]
    }
   ],
   "source": [
    "from typing import overload, Union\n",
    "\n",
    "\n",
    "@overload\n",
    "def add(a: Union[int, float], b: Union[int, float]) -> Union[int, float]:\n",
    "    ...\n",
    "\n",
    "@overload\n",
    "def add(a: str, b: str) -> str:\n",
    "    ...\n",
    "\n",
    "\n",
    "def add(a: Union[int, float, str], b: Union[int, float, str]) -> Union[int, float, str]:\n",
    "    \"\"\"\n",
    "    This function adds two numbers or concatenates two strings.\n",
    "\n",
    "    Args:\n",
    "        a (Union[int, float, str]): The first operand.\n",
    "        b (Union[int, float, str]): The second operand.\n",
    "\n",
    "    Returns:\n",
    "        Union[int, float, str]: The result of addition or concatenation.\n",
    "\n",
    "    Raises:\n",
    "        TypeError: If the arguments are of invalid types.\n",
    "    \"\"\"\n",
    "\n",
    "    if(isinstance(a, (int, float)) and isinstance(b, (int, float))):\n",
    "        return a + b\n",
    "    \n",
    "    if isinstance(a, str) and isinstance(b, str):\n",
    "        return a + b\n",
    "\n",
    "    raise TypeError(\"Invalid type arguments\")\n",
    "\n",
    "\n",
    "\n",
    "print(add(5, 3))\n",
    "print(add(5, 3.5))\n",
    "print(add(5.8, 3.5))\n",
    "\n",
    "print(add(\"Hello\", \"World\"))\n",
    "\n",
    "print(add(\"Hello\", 5))\n",
    "\n",
    "\n",
    "\n",
    "\n",
    "\n",
    "\n"
   ]
  }
 ],
 "metadata": {
  "kernelspec": {
   "display_name": "Python 3",
   "language": "python",
   "name": "python3"
  },
  "language_info": {
   "codemirror_mode": {
    "name": "ipython",
    "version": 3
   },
   "file_extension": ".py",
   "mimetype": "text/x-python",
   "name": "python",
   "nbconvert_exporter": "python",
   "pygments_lexer": "ipython3",
   "version": "3.13.2"
  }
 },
 "nbformat": 4,
 "nbformat_minor": 2
}
