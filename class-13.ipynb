{
 "cells": [
  {
   "cell_type": "markdown",
   "id": "7f94c9c3",
   "metadata": {},
   "source": [
    "# Class 13 Python\n",
    "\n",
    "- Composition\n",
    "- Aggregation\n",
    "- Metaclasses\n",
    "- Dataclasses"
   ]
  },
  {
   "cell_type": "markdown",
   "id": "79658129",
   "metadata": {},
   "source": [
    "## Diffrence between composition and aggregation\n",
    "\n",
    "| Feature            | Composition            | Aggregation                                                         |\n",
    "|--------------------|------------------------|---------------------------------------------------------------------|\n",
    "| **Definition** | A \"has-a\" relationship where one object owns another object. | A \"has-a\" relationship where one object contains another object but does not own it. |\n",
    "| **Lifespan** | The lifetime of the contained object is tied to the lifetime of the container object. | The contained object can exist independently of the container object. |\n",
    "| **Dependency** | Strong dependency between the objects. | Weak dependency between the objects. |\n",
    "| **Example** | A `Car` object contains an `Engine` object, and the engine cannot exist without the car. | A `University` object contains `Departments` objects, but departments can exist without the university. |\n",
    "| **Implementation** | The contained object is typically created and managed by the container object. | The contained object is passed to the container object, often via parameters. |"
   ]
  },
  {
   "cell_type": "markdown",
   "id": "0a12c454",
   "metadata": {},
   "source": [
    "## Composition"
   ]
  },
  {
   "cell_type": "code",
   "execution_count": 3,
   "id": "0995b39a",
   "metadata": {},
   "outputs": [
    {
     "name": "stdout",
     "output_type": "stream",
     "text": [
      "Toyota Camry is starting...\n",
      "Engine started with horsepower: 200\n",
      "Engine started with horsepower: 200\n"
     ]
    }
   ],
   "source": [
    "class Engine:\n",
    "    def __init__(self, horsepower):\n",
    "        self.horsepower = horsepower\n",
    "\n",
    "    def start(self):\n",
    "        print(\"Engine started with horsepower:\", self.horsepower)\n",
    "\n",
    "\n",
    "class Car:\n",
    "    def __init__(self, make, model, horsepower):\n",
    "        self.make = make\n",
    "        self.model = model\n",
    "        self.engine = Engine(horsepower)  # Composition: Car owns an Engine\n",
    "\n",
    "    def start(self):\n",
    "        print(f\"{self.make} {self.model} is starting...\")\n",
    "        self.engine.start()\n",
    "\n",
    "\n",
    "# Example usage\n",
    "my_car = Car(\"Toyota\", \"Camry\", 200)\n",
    "my_car.start()\n",
    "my_car.engine.start()"
   ]
  },
  {
   "cell_type": "markdown",
   "id": "3a90d96b",
   "metadata": {},
   "source": [
    "## Aggregation"
   ]
  },
  {
   "cell_type": "code",
   "execution_count": null,
   "id": "536bd79d",
   "metadata": {},
   "outputs": [
    {
     "name": "stdout",
     "output_type": "stream",
     "text": [
      "University: Tech University\n",
      "Department: Computer Science\n",
      "Department: Mathematics\n",
      "\n",
      "========== After deleting university ==========\n",
      "Department: Mathematics\n",
      "Department: Computer Science\n"
     ]
    }
   ],
   "source": [
    "class Department:\n",
    "    def __init__(self, name):\n",
    "        self.name = name\n",
    "\n",
    "    def display(self):\n",
    "        print(f\"Department: {self.name}\")\n",
    "\n",
    "\n",
    "class University:\n",
    "    def __init__(self, name):\n",
    "        self.name = name\n",
    "        self.departments: list[Department] = []  # Aggregation: University contains departments\n",
    "\n",
    "    def add_department(self, department):\n",
    "        self.departments.append(department)\n",
    "\n",
    "    def display_departments(self):\n",
    "        print(f\"University: {self.name}\")\n",
    "        for department in self.departments:\n",
    "            department.display()\n",
    "\n",
    "    def display(self):\n",
    "        print(f\"University name: {self.name}\")\n",
    "\n",
    "\n",
    "# Example usage\n",
    "cs_department = Department(\"Computer Science\")\n",
    "math_department = Department(\"Mathematics\")\n",
    "\n",
    "university = University(\"Tech University\")\n",
    "university.add_department(cs_department)\n",
    "university.add_department(math_department)\n",
    "\n",
    "university.display_departments()\n",
    "\n",
    "\n",
    "del university\n",
    "\n",
    "print('\\n========== After deleting university ==========')\n",
    "\n",
    "math_department.display()\n",
    "cs_department.display()\n"
   ]
  },
  {
   "cell_type": "markdown",
   "id": "03209bd5",
   "metadata": {},
   "source": [
    "## Metaclasses in Python\n",
    "\n",
    "Metaclasses are the \"classes of classes\" in Python. They define how classes behave. A class is an instance of a metaclass, just as an object is an instance of a class. By default, Python classes are instances of the `type` metaclass. Metaclasses allow you to customize class creation, such as modifying class attributes or methods during definition. They are defined by inheriting from `type` and overriding methods like `__new__` or `__init__`.\n"
   ]
  },
  {
   "cell_type": "code",
   "execution_count": null,
   "id": "f206008c",
   "metadata": {},
   "outputs": [
    {
     "name": "stdout",
     "output_type": "stream",
     "text": [
      "MyMeta: Creating class: Cat\n",
      "{'__module__': '__main__', '__qualname__': 'Cat', '__firstlineno__': 17, 'say_hello': <function Cat.say_hello at 0x0000024AE99563E0>, '__static_attributes__': ()}\n",
      "MyMeta: Creating class: Dog\n",
      "{'__module__': '__main__', '__qualname__': 'Dog', '__firstlineno__': 23, 'say_hello': <function Dog.say_hello at 0x0000024AE98D9DA0>, '__static_attributes__': ()}\n"
     ]
    },
    {
     "ename": "ValueError",
     "evalue": "Class name must start with 'C'",
     "output_type": "error",
     "traceback": [
      "\u001b[31m---------------------------------------------------------------------------\u001b[39m",
      "\u001b[31mValueError\u001b[39m                                Traceback (most recent call last)",
      "\u001b[36mCell\u001b[39m\u001b[36m \u001b[39m\u001b[32mIn[21]\u001b[39m\u001b[32m, line 23\u001b[39m\n\u001b[32m     18\u001b[39m     \u001b[38;5;28;01mdef\u001b[39;00m\u001b[38;5;250m \u001b[39m\u001b[34msay_hello\u001b[39m(\u001b[38;5;28mself\u001b[39m):\n\u001b[32m     19\u001b[39m         \u001b[38;5;28mprint\u001b[39m(\u001b[33m\"\u001b[39m\u001b[33mMeow!!\u001b[39m\u001b[33m\"\u001b[39m)\n\u001b[32m---> \u001b[39m\u001b[32m23\u001b[39m \u001b[38;5;28;43;01mclass\u001b[39;49;00m\u001b[38;5;250;43m \u001b[39;49m\u001b[34;43;01mDog\u001b[39;49;00m\u001b[43m(\u001b[49m\u001b[43mmetaclass\u001b[49m\u001b[43m=\u001b[49m\u001b[43mMyMeta\u001b[49m\u001b[43m)\u001b[49m\u001b[43m:\u001b[49m\n\u001b[32m     24\u001b[39m \u001b[43m    \u001b[49m\u001b[38;5;28;43;01mdef\u001b[39;49;00m\u001b[38;5;250;43m \u001b[39;49m\u001b[34;43msay_hello\u001b[39;49m\u001b[43m(\u001b[49m\u001b[38;5;28;43mself\u001b[39;49m\u001b[43m)\u001b[49m\u001b[43m:\u001b[49m\n\u001b[32m     25\u001b[39m \u001b[43m        \u001b[49m\u001b[38;5;28;43mprint\u001b[39;49m\u001b[43m(\u001b[49m\u001b[33;43m\"\u001b[39;49m\u001b[33;43mBark!!\u001b[39;49m\u001b[33;43m\"\u001b[39;49m\u001b[43m)\u001b[49m\n",
      "\u001b[36mCell\u001b[39m\u001b[36m \u001b[39m\u001b[32mIn[21]\u001b[39m\u001b[32m, line 11\u001b[39m, in \u001b[36mMyMeta.__new__\u001b[39m\u001b[34m(cls, name, bases, attrs)\u001b[39m\n\u001b[32m      8\u001b[39m     \u001b[38;5;28;01mraise\u001b[39;00m \u001b[38;5;167;01mTypeError\u001b[39;00m(\u001b[33mf\u001b[39m\u001b[33m\"\u001b[39m\u001b[38;5;132;01m{\u001b[39;00mname\u001b[38;5;132;01m}\u001b[39;00m\u001b[33m must define \u001b[39m\u001b[33m'\u001b[39m\u001b[33msay_hello\u001b[39m\u001b[33m'\u001b[39m\u001b[33m!\u001b[39m\u001b[33m\"\u001b[39m)\n\u001b[32m     10\u001b[39m \u001b[38;5;28;01mif\u001b[39;00m \u001b[38;5;129;01mnot\u001b[39;00m name.startswith(\u001b[33m'\u001b[39m\u001b[33mC\u001b[39m\u001b[33m'\u001b[39m):\n\u001b[32m---> \u001b[39m\u001b[32m11\u001b[39m     \u001b[38;5;28;01mraise\u001b[39;00m \u001b[38;5;167;01mValueError\u001b[39;00m(\u001b[33m\"\u001b[39m\u001b[33mClass name must start with \u001b[39m\u001b[33m'\u001b[39m\u001b[33mC\u001b[39m\u001b[33m'\u001b[39m\u001b[33m\"\u001b[39m)\n\u001b[32m     14\u001b[39m \u001b[38;5;28;01mreturn\u001b[39;00m \u001b[38;5;28msuper\u001b[39m().\u001b[34m__new__\u001b[39m(\u001b[38;5;28mcls\u001b[39m, name, bases, attrs)\n",
      "\u001b[31mValueError\u001b[39m: Class name must start with 'C'"
     ]
    }
   ],
   "source": [
    "class MyMeta(type):\n",
    "    def __new__(cls: type, name: str, bases: tuple[type, ...], attrs: dict[str, object]) -> type:\n",
    "        # Runs when a class is created\n",
    "        print(f\"MyMeta: Creating class: {name}\")\n",
    "\n",
    "        if \"say_hello\" not in attrs:\n",
    "            raise TypeError(f\"{name} must define 'say_hello'!\")\n",
    "        \n",
    "        if not name.startswith('C'):\n",
    "            raise ValueError(\"Class name must start with 'C'\")\n",
    "\n",
    "\n",
    "        return super().__new__(cls, name, bases, attrs)\n",
    "    \n",
    "\n",
    "class Cat(metaclass=MyMeta):\n",
    "    def say_hello(self):\n",
    "        print(\"Meow!!\")\n",
    "\n",
    "\n",
    "\n",
    "class Dog(metaclass=MyMeta):\n",
    "    def say_hello(self):\n",
    "        print(\"Bark!!\")"
   ]
  },
  {
   "cell_type": "code",
   "execution_count": 22,
   "id": "92cb58f6",
   "metadata": {},
   "outputs": [
    {
     "name": "stdout",
     "output_type": "stream",
     "text": [
      "True\n"
     ]
    }
   ],
   "source": [
    "# Example: Singleton Metaclass (ensures only 1 instance exists)\n",
    "class SingletonMeta(type):\n",
    "    _instances = {}\n",
    "    def __call__(cls, *args, **kwargs):\n",
    "        if cls not in cls._instances:\n",
    "            cls._instances[cls] = super().__call__(*args, **kwargs)\n",
    "        return cls._instances[cls]\n",
    "\n",
    "class Database(metaclass=SingletonMeta):\n",
    "    pass\n",
    "\n",
    "db1: Database = Database()\n",
    "db2: Database = Database()\n",
    "print(db1 is db2)  # True (same instance!)"
   ]
  },
  {
   "cell_type": "markdown",
   "id": "7fd378da",
   "metadata": {},
   "source": [
    "## Dataclass in Python?\n",
    "\n",
    "A dataclass in Python is a decorator introduced in Python 3.7 that simplifies the creation of classes used primarily for storing data. A dataclass automatically adds special methods to the class, like:\n",
    "\n",
    "- `__init__` : a constructor method to initialize attributes.    \n",
    "- `__repr__` : a method that provides a human-readable string representation of the object.\n",
    "- `__eq__` : a method for comparing instances for equality based on their attributes.\n",
    "- `__hash__` : a method that allows instances of the class to be used as dictionary keys or in sets.\n",
    "\n",
    "These methods are automatically generated, reducing the need for boilerplate code and making the code more concise and readable."
   ]
  },
  {
   "cell_type": "code",
   "execution_count": 27,
   "id": "6c69ed2f",
   "metadata": {},
   "outputs": [
    {
     "name": "stdout",
     "output_type": "stream",
     "text": [
      "Comment(id=1, text=Hello)\n",
      "1\n",
      "Hello\n"
     ]
    },
    {
     "ename": "AttributeError",
     "evalue": "property 'text' of 'Comment' object has no setter",
     "output_type": "error",
     "traceback": [
      "\u001b[31m---------------------------------------------------------------------------\u001b[39m",
      "\u001b[31mAttributeError\u001b[39m                            Traceback (most recent call last)",
      "\u001b[36mCell\u001b[39m\u001b[36m \u001b[39m\u001b[32mIn[27]\u001b[39m\u001b[32m, line 44\u001b[39m\n\u001b[32m     42\u001b[39m \u001b[38;5;28mprint\u001b[39m(comment.id)\n\u001b[32m     43\u001b[39m \u001b[38;5;28mprint\u001b[39m(comment.text)\n\u001b[32m---> \u001b[39m\u001b[32m44\u001b[39m \u001b[43mcomment\u001b[49m\u001b[43m.\u001b[49m\u001b[43mtext\u001b[49m = \u001b[33m\"\u001b[39m\u001b[33mWorld\u001b[39m\u001b[33m\"\u001b[39m\n",
      "\u001b[31mAttributeError\u001b[39m: property 'text' of 'Comment' object has no setter"
     ]
    }
   ],
   "source": [
    "class Comment():\n",
    "\n",
    "    def __init__(self, id:int, text: str):\n",
    "        self.__id = id\n",
    "        self.__text = text\n",
    "\n",
    "    @property\n",
    "    def id(self):\n",
    "        return self.__id\n",
    "    \n",
    "    @property\n",
    "    def text(self):\n",
    "        return self.__text\n",
    "\n",
    "    def __repr__(self):\n",
    "        return f\"Comment(id={self.id}, text={self.text})\"\n",
    "    \n",
    "    def __eq__(self, value):\n",
    "        if isinstance(value, Comment):\n",
    "            return self.id == value.id and self.text == value.text\n",
    "        return False\n",
    "\n",
    "    def __ne__(self, value):\n",
    "        return not self.__eq__(value)\n",
    "\n",
    "    def __gt__(self, value):\n",
    "        if isinstance(value, Comment):\n",
    "            return self.id > value.id\n",
    "        return NotImplemented\n",
    "\n",
    "    def __lt__(self, value):\n",
    "        if isinstance(value, Comment):\n",
    "            return self.id < value.id\n",
    "        return NotImplemented\n",
    "\n",
    "    def __hash__(self):\n",
    "        return hash((self.id, self.text))\n",
    "\n",
    "\n",
    "comment = Comment(1, \"Hello\")\n",
    "print(comment)\n",
    "print(comment.id)\n",
    "print(comment.text)\n",
    "comment.text = \"World\"\n",
    "\n"
   ]
  },
  {
   "cell_type": "code",
   "execution_count": 51,
   "metadata": {},
   "outputs": [
    {
     "name": "stdout",
     "output_type": "stream",
     "text": [
      "<__main__.Comment1 object at 0x0000024AE8B192B0>\n",
      "1\n",
      "Hello\n",
      "Unknown\n",
      "[]\n",
      "['Hi']\n"
     ]
    },
    {
     "data": {
      "text/plain": [
       "[('__delattr__', <function __main__.Comment1.__delattr__(self, name)>),\n",
       " ('__eq__', <function __main__.Comment1.__eq__(self, other)>),\n",
       " ('__ge__', <function __main__.Comment1.__ge__(self, other)>),\n",
       " ('__gt__', <function __main__.Comment1.__gt__(self, other)>),\n",
       " ('__hash__', <function __main__.Comment1.__hash__(self)>),\n",
       " ('__init__',\n",
       "  <function __main__.Comment1.__init__(self, id: int, text: str, author: str = 'Unknown', replies: list[str] = <factory>) -> None>),\n",
       " ('__le__', <function __main__.Comment1.__le__(self, other)>),\n",
       " ('__lt__', <function __main__.Comment1.__lt__(self, other)>),\n",
       " ('__replace__', <function dataclasses._replace(self, /, **changes)>),\n",
       " ('__setattr__', <function __main__.Comment1.__setattr__(self, name, value)>)]"
      ]
     },
     "metadata": {},
     "output_type": "display_data"
    }
   ],
   "source": [
    "from dataclasses import dataclass, field\n",
    "import inspect\n",
    "\n",
    "\n",
    "@dataclass(frozen=True, order=True, repr=False)\n",
    "class Comment1():\n",
    "    id: int\n",
    "    text: str\n",
    "    author: str = field(default=\"Unknown\", hash=False)\n",
    "    replies: list[str] = field(default_factory=list, compare=False, hash=False)\n",
    "\n",
    "\n",
    "comment = Comment1(1, \"Hello\")\n",
    "print(comment)\n",
    "print(comment.id)\n",
    "print(comment.text)\n",
    "print(comment.author)\n",
    "print(comment.replies)\n",
    "\n",
    "comment.replies.append(\"Hi\")\n",
    "print(comment.replies)\n",
    "\n",
    "# comment.text = \"World\"\n",
    "\n",
    "display(inspect.getmembers(Comment1, inspect.isfunction))\n",
    "\n"
   ]
  }
 ],
 "metadata": {
  "kernelspec": {
   "display_name": "Python 3",
   "language": "python",
   "name": "python3"
  },
  "language_info": {
   "codemirror_mode": {
    "name": "ipython",
    "version": 3
   },
   "file_extension": ".py",
   "mimetype": "text/x-python",
   "name": "python",
   "nbconvert_exporter": "python",
   "pygments_lexer": "ipython3",
   "version": "3.13.3"
  }
 },
 "nbformat": 4,
 "nbformat_minor": 5
}
